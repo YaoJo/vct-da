{
 "cells": [
  {
   "cell_type": "code",
   "execution_count": 1,
   "id": "2663b8c3",
   "metadata": {},
   "outputs": [],
   "source": [
    "from selenium import webdriver\n",
    "from selenium.webdriver.common.by import By\n",
    "from selenium.webdriver.common.action_chains import ActionChains\n",
    "import time"
   ]
  },
  {
   "cell_type": "code",
   "execution_count": 2,
   "id": "126783de",
   "metadata": {},
   "outputs": [
    {
     "name": "stderr",
     "output_type": "stream",
     "text": [
      "Exception managing chrome: error sending request for url (https://googlechromelabs.github.io/chrome-for-testing/known-good-versions-with-downloads.json)\n",
      "The chromedriver version (134.0.6998.165) detected in PATH at C:\\Program Files\\Google\\Chrome\\Application\\chromedriver.exe might not be compatible with the detected chrome version (135.0.7049.96); currently, chromedriver  is recommended for chrome 135.*, so it is advised to delete the driver in PATH and retry\n"
     ]
    }
   ],
   "source": [
    "# 创建浏览器实例，后续可改成无头\n",
    "driver = webdriver.Chrome()"
   ]
  },
  {
   "cell_type": "code",
   "execution_count": 3,
   "id": "9cee7b85",
   "metadata": {},
   "outputs": [],
   "source": [
    "# 打开号角官网\n",
    "driver.get('https://web.haojiao.cc')"
   ]
  },
  {
   "cell_type": "code",
   "execution_count": 4,
   "id": "a053effe",
   "metadata": {},
   "outputs": [],
   "source": [
    "# 点击队伍\n",
    "element = driver.find_element(By.XPATH, \"//*[@id='home_wiki_wrap']/div[1]/div[1]/div[3]/span\")\n",
    "# print(element.is_displayed(), element.is_enabled())  # 输出 True, True\n",
    "driver.execute_script(\"arguments[0].click();\", element) # 强制点击，绕过前端\n",
    "# driver.find_element(By.XPATH, \"//*[@id='home_wiki_wrap']/div[1]/div[1]/div[3]/span\").click # 直接点击不可行"
   ]
  },
  {
   "cell_type": "code",
   "execution_count": 5,
   "id": "7fddb2d2",
   "metadata": {},
   "outputs": [],
   "source": [
    "# 找到名为EDG的队伍，后续可将名称改成变量\n",
    "element = driver.find_element(By.CSS_SELECTOR, '._3GZvF[title=\"EDG\"]')\n",
    "driver.execute_script(\"arguments[0].click();\", element)"
   ]
  },
  {
   "cell_type": "code",
   "execution_count": 6,
   "id": "841cebf6",
   "metadata": {},
   "outputs": [],
   "source": [
    "# 点击比赛记录\n",
    "element = driver.find_element(By.XPATH, \"//*[@id='home_wiki_wrap']/div[2]/div/div[2]/div/div/div[2]/div/div[3]/span\")\n",
    "driver.execute_script(\"arguments[0].click();\", element)"
   ]
  },
  {
   "cell_type": "code",
   "execution_count": 7,
   "id": "3c291b68",
   "metadata": {},
   "outputs": [],
   "source": [
    "# 模拟滑动滚轮显示数据\n",
    "# 1. 定位表格元素\n",
    "table = driver.find_element(By.XPATH, \"//*[@id='wiki_team_match_scroll_list']\")\n",
    "# 2. 将鼠标移动到表格内部\n",
    "ActionChains(driver).move_to_element(table).perform()\n",
    "# 3. 循环滚动到底部（直到没有新数据加载）\n",
    "last_height = driver.execute_script(\"return arguments[0].scrollHeight\", table)\n",
    "while True:\n",
    "    # 模拟滚动到底部（操作表格内部的滚动条）\n",
    "    driver.execute_script(\"arguments[0].scrollTop = arguments[0].scrollHeight\", table)\n",
    "    \n",
    "    # 等待新数据加载（根据实际调整等待时间）\n",
    "    time.sleep(2)  # 简单等待，可替换为显式等待\n",
    "    \n",
    "    # 检查是否到达底部\n",
    "    new_height = driver.execute_script(\"return arguments[0].scrollHeight\", table)\n",
    "    if new_height == last_height:\n",
    "        break  # 如果高度不再变化，说明已加载全部数据\n",
    "    last_height = new_height"
   ]
  },
  {
   "cell_type": "code",
   "execution_count": 8,
   "id": "75a44a37",
   "metadata": {},
   "outputs": [],
   "source": [
    "# 赛事级别\n",
    "levels = [x.text for x in driver.find_elements(By.CLASS_NAME, \"jCd7F\")]\n",
    "# 赛事主题\n",
    "themes = [x.text for x in driver.find_elements(By.CLASS_NAME, \"Ocek8._25jFs\")]\n",
    "# 赛制BO3或BO5\n",
    "formats = [x.text for x in driver.find_elements(By.CLASS_NAME, \"Xw-0_\")]\n",
    "# 队伍，偶数索引是左侧队伍，奇数索引是右侧队伍\n",
    "teams = [x.text for x in driver.find_elements(By.CLASS_NAME, \"_2iA0F\")]\n",
    "# 比分，偶数索引是左侧队伍得分，奇数索引是右侧队伍得分\n",
    "scores = [x.text for x in driver.find_elements(By.CLASS_NAME, \"_1hzNU\")]\n",
    "# 比赛时间\n",
    "times = [x.text for x in driver.find_elements(By.CLASS_NAME, \"_1RSCT\")]"
   ]
  },
  {
   "cell_type": "code",
   "execution_count": 9,
   "id": "08a5b457",
   "metadata": {},
   "outputs": [],
   "source": [
    "# 将左右的队伍和比分分离\n",
    "teams_l = teams[::2]\n",
    "teams_r = teams[1::2]\n",
    "scores_l = scores[::2]\n",
    "scores_r = scores[1::2]"
   ]
  },
  {
   "cell_type": "code",
   "execution_count": 10,
   "id": "357734b8",
   "metadata": {},
   "outputs": [
    {
     "name": "stdout",
     "output_type": "stream",
     "text": [
      "S级 VCT 2025: CN联赛 第一赛段 (BO3) EDG V : S BLG 2025/05/02 19:00\n",
      "S级 VCT 2025: CN联赛 第一赛段 (BO3) EDG 2 : 1 DRG 2025/04/20 19:10\n",
      "S级 VCT 2025: CN联赛 第一赛段 (BO3) EDG 0 : 2 XLG 2025/04/19 19:15\n",
      "S级 VCT 2025: CN联赛 第一赛段 (BO3) EDG 2 : 0 FPX 2025/04/13 19:10\n",
      "S级 VCT 2025: CN联赛 第一赛段 (BO3) EDG 2 : 1 TEC 2025/04/05 19:30\n",
      "S级 VCT 2025: CN联赛 第一赛段 (BO3) EDG 2 : 1 DRG 2025/03/29 20:15\n",
      "S级 VCT 2025: CN联赛 第一赛段 (BO3) EDG 0 : 2 NOVA 2025/03/20 19:00\n",
      "S级 VCT 2025: CN联赛 第一赛段 (BO3) EDG 2 : 0 TYL 2025/03/15 19:00\n",
      "S级 VCT 2025: 曼谷大师赛 (BO5) EDG 1 : 3 T1 2025/03/01 18:00\n",
      "S级 VCT 2025: 曼谷大师赛 (BO3) EDG 0 : 2 G2 2025/02/28 18:00\n",
      "S级 VCT 2025: 曼谷大师赛 (BO3) EDG 2 : 1 T1 2025/02/27 18:00\n",
      "S级 VCT 2025: 曼谷大师赛 (BO3) EDG 2 : 1 G2 2025/02/22 21:25\n",
      "S级 VCT 2025: 曼谷大师赛 (BO3) EDG 2 : 0 TL 2025/02/20 18:00\n",
      "A级 CN ES 2025: 第一幕 CN赛区 进化者系列公开赛 (BO3) EDG 0 : 2 JDG 2025/02/09 19:15\n",
      "S级 VCT 2025: CN 联赛启点赛 (BO5) EDG 3 : 1 TE 2025/01/25 17:00\n",
      "S级 VCT 2025: CN 联赛启点赛 (BO5) EDG 3 : 0 BLG 2025/01/24 17:00\n",
      "S级 VCT 2025: CN 联赛启点赛 (BO3) EDG 2 : 0 DRG 2025/01/23 20:15\n",
      "S级 VCT 2025: CN 联赛启点赛 (BO3) EDG 2 : 1 XLG 2025/01/22 20:00\n",
      "S级 VCT 2025: CN 联赛启点赛 (BO3) EDG 0 : 2 TE 2025/01/20 19:00\n",
      "S级 VCT 2025: CN 联赛启点赛 (BO3) EDG 2 : 0 NOVA 2025/01/17 19:00\n",
      "A级 OFF//SEASON 2024: 超绝杯职业赛 (BO5) EDG 1 : 3 NOVA 2024/12/14 18:00\n",
      "A级 OFF//SEASON 2024: 超绝杯职业赛 (BO3) EDG 2 : 0 TE 2024/12/13 20:00\n",
      "A级 OFF//SEASON 2024: 超绝杯职业赛 (BO3) EDG 0 : 2 XLG 2024/12/11 19:00\n",
      "A级 OFF//SEASON 2024: 超绝杯职业赛 (BO3) EDG 2 : 1 JDG 2024/12/09 17:00\n",
      "A级 OFF//SEASON 2024: 超绝杯职业赛 (BO3) EDG 2 : 0 TEC 2024/12/08 19:30\n",
      "A级 OFF//SEASON 2024: 电竞上海大师赛 (BO3) EDG 0 : 2 XLG 2024/12/06 16:00\n",
      "A级 OFF//SEASON 2024: 源能亚洲邀请赛 (BO3) EDG 1 : 2 PRX 2024/11/24 19:58\n",
      "A级 OFF//SEASON 2024: 源能亚洲邀请赛 (BO3) EDG 1 : 2 DFM 2024/11/22 19:03\n",
      "B级 OFF//SEASON 2024: 韩国光州电竞系列赛 (BO3) EDG 0 : 2 GEN 2024/11/03 15:20\n",
      "B级 OFF//SEASON 2024: 韩国光州电竞系列赛 (BO3) EDG 0 : 2 T1 2024/11/02 16:30\n",
      "S级 VCT 2024: 全球冠军赛 (BO5) EDG 3 : 2 TH 2024/08/25 14:48\n",
      "S级 VCT 2024: 全球冠军赛 (BO3) EDG 2 : 1 LEV 2024/08/23 14:55\n",
      "S级 VCT 2024: 全球冠军赛 (BO3) EDG 2 : 1 SEN 2024/08/17 15:55\n",
      "S级 VCT 2024: 全球冠军赛 (BO3) EDG 2 : 0 TE 2024/08/14 18:17\n",
      "S级 VCT 2024: 全球冠军赛 (BO3) EDG 2 : 1 PRX 2024/08/11 18:18\n",
      "S级 VCT 2024: 全球冠军赛 (BO3) EDG 1 : 2 G2 2024/08/07 19:09\n",
      "S级 VCT 2024: 全球冠军赛 (BO3) EDG 2 : 0 FUT 2024/08/04 19:14\n",
      "S级 VCT 2024: CN联赛 第二赛段 (BO5) EDG 3 : 2 FPX 2024/07/20 16:40\n",
      "S级 VCT 2024: CN联赛 第二赛段 (BO3) EDG 2 : 0 TE 2024/07/18 15:54\n",
      "S级 VCT 2024: CN联赛 第二赛段 (BO3) EDG 2 : 1 BLG 2024/07/17 18:10\n",
      "S级 VCT 2024: CN联赛 第二赛段 (BO3) EDG 2 : 0 BLG 2024/07/06 20:19\n",
      "S级 VCT 2024: CN联赛 第二赛段 (BO3) EDG 2 : 0 NOVA 2024/06/30 19:15\n",
      "S级 VCT 2024: CN联赛 第二赛段 (BO3) EDG 0 : 2 DRG 2024/06/27 18:51\n",
      "S级 VCT 2024: CN联赛 第二赛段 (BO3) EDG 1 : 2 WOL 2024/06/22 19:05\n",
      "S级 VCT 2024: 上海大师赛 (BO3) EDG 0 : 2 PRX 2024/06/01 18:50\n",
      "S级 VCT 2024: 上海大师赛 (BO3) EDG 0 : 2 TH 2024/05/31 19:01\n",
      "S级 VCT 2024: CN联赛 第一赛段 (BO5) EDG 3 : 1 FPX 2024/05/12 16:51\n",
      "S级 VCT 2024: CN联赛 第一赛段 (BO5) EDG 3 : 1 DRG 2024/05/11 16:51\n",
      "S级 VCT 2024: CN联赛 第一赛段 (BO3) EDG 0 : 2 FPX 2024/05/10 16:51\n",
      "S级 VCT 2024: CN联赛 第一赛段 (BO3) EDG 2 : 0 DRG 2024/05/09 19:32\n",
      "S级 VCT 2024: CN联赛 第一赛段 (BO3) EDG 2 : 0 TE 2024/05/05 19:00\n",
      "S级 VCT 2024: CN联赛 第一赛段 (BO3) EDG 2 : 0 AG 2024/05/02 19:00\n",
      "S级 VCT 2024: CN联赛 第一赛段 (BO3) EDG 1 : 2 FPX 2024/04/27 20:30\n",
      "S级 VCT 2024: CN联赛 第一赛段 (BO3) EDG 2 : 0 TEC 2024/04/21 20:45\n",
      "S级 VCT 2024: CN联赛 第一赛段 (BO3) EDG 2 : 0 TYL 2024/04/14 20:00\n",
      "S级 VCT 2024: CN联赛 第一赛段 (BO3) EDG 2 : 1 JDG 2024/04/06 20:50\n",
      "S级 VCT 2024: 马德里大师赛 (BO3) EDG 0 : 2 LOUD 2024/03/18 22:58\n",
      "S级 VCT 2024: 马德里大师赛 (BO3) EDG 1 : 2 GEN 2024/03/17 01:19\n",
      "S级 VCT 2024: 马德里大师赛 (BO3) EDG 2 : 1 PRX 2024/03/15 22:54\n",
      "S级 VCT 2024: CN 联赛启点赛 (BO5) EDG 3 : 1 FPX 2024/03/02 17:00\n",
      "S级 VCT 2024: CN 联赛启点赛 (BO3) EDG 2 : 0 TE 2024/03/01 19:20\n",
      "S级 VCT 2024: CN 联赛启点赛 (BO3) EDG 2 : 1 WOL 2024/02/25 21:45\n",
      "A级 OFF//SEASON 2023: AVL邀请赛 (BO3) EDG 0 : 2 TL 2023/12/08 22:00\n",
      "A级 OFF//SEASON 2023: AVL邀请赛 (BO3) EDG 2 : 1 FCY 2023/12/08 17:45\n",
      "A级 OFF//SEASON 2023: AVL邀请赛 (BO3) EDG 0 : 2 T1 2023/12/06 18:10\n",
      "B级 CN ES 2023: 第三幕 共生CN赛区 进化者系列公开赛 (BO5) EDG 3 : 0 RA 2023/11/26 17:00\n",
      "B级 CN ES 2023: 第三幕 共生CN赛区 进化者系列公开赛 (BO5) EDG 3 : 1 FPX 2023/11/25 17:00\n",
      "B级 CN ES 2023: 第三幕 共生CN赛区 进化者系列公开赛 (BO3) EDG 0 : 2 RA 2023/11/24 17:00\n",
      "B级 CN ES 2023: 第三幕 共生CN赛区 进化者系列公开赛 (BO3) EDG 2 : 1 ASE 2023/11/21 19:30\n",
      "B级 CN ES 2023: 第三幕 共生CN赛区 进化者系列公开赛 (BO3) EDG 2 : 0 TES 2023/11/18 20:00\n",
      "B级 CN ES 2023: 第二幕 淬炼CN赛区 进化者系列公开赛 (BO5) EDG 3 : 0 TE 2023/10/29 17:00\n",
      "B级 CN ES 2023: 第二幕 淬炼CN赛区 进化者系列公开赛 (BO5) EDG 3 : 1 RA 2023/10/28 17:00\n",
      "B级 CN ES 2023: 第二幕 淬炼CN赛区 进化者系列公开赛 (BO3) EDG 0 : 2 TE 2023/10/27 17:00\n",
      "B级 CN ES 2023: 第二幕 淬炼CN赛区 进化者系列公开赛 (BO3) EDG 2 : 0 RA 2023/10/26 20:45\n",
      "B级 CN ES 2023: 第二幕 淬炼CN赛区 进化者系列公开赛 (BO3) EDG 2 : 0 BLG 2023/10/22 17:00\n",
      "B级 CN ES 2023: 第二幕 淬炼CN赛区 进化者系列公开赛 (BO3) EDG 2 : 0 RNG 2023/10/20 20:00\n",
      "A级 OFF//SEASON 2023: TEN国际邀请赛 (BO3) EDG 1 : 2 DRX 2023/10/08 14:00\n",
      "A级 OFF//SEASON 2023: TEN国际邀请赛 (BO1) EDG 0 : 1 C9 2023/10/07 19:30\n",
      "A级 OFF//SEASON 2023: TEN国际邀请赛 (BO1) EDG 1 : 0 T1 2023/10/07 14:30\n",
      "A级 OFF//SEASON 2023: TEN国际邀请赛 (BO1) EDG 1 : 0 DRX 2023/10/07 13:00\n",
      "B级 CN ES 2023: 第一幕 聚势CN赛区 进化者系列公开赛 (BO5) EDG 3 : 1 RA 2023/10/01 17:40\n",
      "B级 CN ES 2023: 第一幕 聚势CN赛区 进化者系列公开赛 (BO3) EDG 2 : 0 FPX 2023/09/28 17:00\n",
      "B级 CN ES 2023: 第一幕 聚势CN赛区 进化者系列公开赛 (BO3) EDG 2 : 0 ASE 2023/09/26 17:00\n",
      "B级 CN ES 2023: 第一幕 聚势CN赛区 进化者系列公开赛 (BO3) EDG 2 : 0 TE 2023/09/23 19:10\n",
      "S级 VCT 2023: 全球冠军赛 (BO3) EDG 1 : 2 LOUD 2023/08/21 03:00\n",
      "S级 VCT 2023: 全球冠军赛 (BO3) EDG 2 : 1 BLG 2023/08/19 05:15\n",
      "S级 VCT 2023: 全球冠军赛 (BO3) EDG 1 : 2 EG 2023/08/18 05:25\n",
      "S级 VCT 2023: 全球冠军赛 (BO3) EDG 2 : 0 GIA 2023/08/14 03:00\n",
      "S级 VCT 2023: 全球冠军赛 (BO3) EDG 0 : 2 PRX 2023/08/11 08:00\n",
      "S级 VCT 2023: 全球冠军赛 (BO3) EDG 2 : 1 GIA 2023/08/10 05:20\n",
      "A级 VCT 2023: CN赛区 资格赛 (BO5) EDG 3 : 1 BLG 2023/07/16 17:00\n",
      "A级 VCT 2023: CN赛区 资格赛 (BO5) EDG 3 : 0 BLG 2023/07/13 17:00\n",
      "A级 VCT 2023: CN赛区 资格赛 (BO5) EDG 3 : 0 TYL 2023/07/09 17:00\n",
      "A级 VCT 2023: CN赛区 资格赛 (BO3) EDG 2 : 0 WBG 2023/07/06 19:00\n",
      "S级 VCT 2023: 东京大师赛 (BO3) EDG 1 : 2 PRX 2023/06/20 14:00\n",
      "S级 VCT 2023: 东京大师赛 (BO3) EDG 2 : 0 LOUD 2023/06/18 11:00\n",
      "S级 VCT 2023: 东京大师赛 (BO3) EDG 1 : 2 TL 2023/06/16 14:00\n",
      "S级 VCT 2023: 东京大师赛 (BO3) EDG 2 : 0 T1 2023/06/14 14:00\n",
      "S级 VCT 2023: 东京大师赛 (BO3) EDG 2 : 0 NAVI 2023/06/13 17:00\n",
      "S级 VCT 2023: 东京大师赛 (BO3) EDG 1 : 2 T1 2023/06/11 17:00\n",
      "C级 FGC 2023: ACT2FGC无畏契约邀请赛 (BO5) EDG 3 : 0 BLG 2023/05/21 17:00\n",
      "C级 FGC 2023: ACT2FGC无畏契约邀请赛 (BO5) EDG 3 : 0 ASE 2023/05/20 17:05\n",
      "C级 FGC 2023: ACT2FGC无畏契约邀请赛 (BO3) EDG 2 : 0 FPX 2023/05/19 17:00\n",
      "C级 FGC 2023: ACT2FGC无畏契约邀请赛 (BO3) EDG 0 : 2 ASE 2023/05/18 17:00\n",
      "C级 FGC 2023: ACT2FGC无畏契约邀请赛 (BO3) EDG 2 : 0 DRG 2023/05/16 20:00\n",
      "C级 FGC 2023: ACT2FGC无畏契约邀请赛 (BO3) EDG 2 : 0 ME 2023/05/11 20:00\n",
      "C级 FGC 2023: ACT2FGC无畏契约邀请赛 (BO3) EDG 2 : 0 4AM 2023/05/04 17:00\n",
      "C级 FGC 2023: ACT1FGC无畏契约邀请赛 (BO5) EDG 2 : 3 ASE 2023/04/16 17:00\n",
      "C级 FGC 2023: ACT1FGC无畏契约邀请赛 (BO3) EDG 2 : 0 KONE 2023/04/14 17:00\n",
      "C级 FGC 2023: ACT1FGC无畏契约邀请赛 (BO3) EDG 2 : 1 FPX 2023/04/12 20:00\n",
      "C级 FGC 2023: ACT1FGC无畏契约邀请赛 (BO3) EDG 2 : 0 NTER 2023/04/01 17:00\n",
      "C级 FGC 2023: ACT1FGC无畏契约邀请赛 (BO3) EDG 2 : 1 DRG 2023/03/31 14:00\n",
      "C级 FGC 2023: ACT1FGC无畏契约邀请赛 (BO3) EDG 2 : 0 TYL 2023/03/29 19:45\n",
      "C级 FGC 2023: ACT1FGC无畏契约邀请赛 (BO3) EDG 2 : 0 BLG 2023/03/24 17:00\n",
      "C级 FGC 2023: ACT1FGC无畏契约邀请赛 (BO3) EDG 2 : 0 TTG 2023/03/23 19:00\n",
      "S级 VCT 2023: 圣保罗季前邀请赛 (BO3) EDG 1 : 2 100T 2023/02/24 07:00\n",
      "S级 VCT 2022: 全球冠军赛 (BO3) EDG 0 : 2 TL 2022/09/04 23:50\n",
      "S级 VCT 2022: 全球冠军赛 (BO3) EDG 1 : 2 PRX 2022/08/31 22:20\n",
      "A级 VCT 2022: 东亚联赛 最终入围赛 (BO5) EDG 3 : 0 ONS 2022/08/14 15:00\n",
      "A级 VCT 2022: 东亚联赛 最终入围赛 (BO3) EDG 2 : 0 NTH 2022/08/12 17:25\n",
      "A级 VCT 2022: 东亚联赛 最终入围赛 (BO3) EDG 2 : 0 RC 2022/08/11 15:00\n",
      "A级 VCT 2022: 东亚联赛 最终入围赛 (BO3) EDG 2 : 0 ONS 2022/08/08 15:00\n"
     ]
    }
   ],
   "source": [
    "for i in range(122):\n",
    "    print(f\"{levels[i]} {themes[i]} {formats[i]} {teams_l[i]} {scores_l[i]} : {scores_r[i]} {teams_r[i]} {times[i]}\")"
   ]
  },
  {
   "cell_type": "code",
   "execution_count": null,
   "id": "166a4f72",
   "metadata": {},
   "outputs": [],
   "source": [
    "# 将爬取到的战队数据写入csv文件\n",
    "import pandas as pd\n",
    "\n",
    "df = pd.DataFrame({\n",
    "    'levels' : levels,\n",
    "    'themes' : themes,\n",
    "    'formats' : formats,\n",
    "    'teams_l' : teams_l,\n",
    "    'teams_r' : teams_r,\n",
    "    'scores_l' : scores_l,\n",
    "    'scores_r' : scores_r,\n",
    "    'times' : times\n",
    "})\n",
    "df.to_csv('edg.csv', index=False, encoding='utf-8-sig')"
   ]
  },
  {
   "cell_type": "code",
   "execution_count": 1,
   "id": "4db81b69",
   "metadata": {},
   "outputs": [],
   "source": [
    "# 读取数据\n",
    "import pandas as pd\n",
    "\n",
    "df = pd.read_csv('edg.csv')"
   ]
  },
  {
   "cell_type": "code",
   "execution_count": 2,
   "id": "97f70bbd",
   "metadata": {},
   "outputs": [
    {
     "data": {
      "text/plain": [
       "0"
      ]
     },
     "execution_count": 2,
     "metadata": {},
     "output_type": "execute_result"
    }
   ],
   "source": [
    "# 将数据保存到数据库\n",
    "import pymysql\n",
    "\n",
    "# 连接数据库\n",
    "conn = pymysql.connect(host='127.0.0.1', user='root', password='1234', port=3306, db='database', charset='utf8mb4')\n",
    "\n",
    "# 创建表(如果不存在)\n",
    "cursor = conn.cursor()\n",
    "sql = '''CREATE TABLE IF NOT EXISTS matches \n",
    "    (id INT AUTO_INCREMENT PRIMARY KEY,\n",
    "    level VARCHAR(255), theme VARCHAR(255), \n",
    "    format VARCHAR(255), team_l VARCHAR(255),\n",
    "    team_r VARCHAR(255), score_l VARCHAR(255),\n",
    "    score_r VARCHAR(255), time VARCHAR(255))'''\n",
    "cursor.execute(sql)"
   ]
  },
  {
   "cell_type": "code",
   "execution_count": 3,
   "id": "9f1dbdee",
   "metadata": {},
   "outputs": [],
   "source": [
    "# 插入数据\n",
    "sql = \"INSERT INTO matches (level, theme, format, team_l, team_r, score_l, score_r, time) VALUES (%s, %s, %s, %s, %s, %s, %s, %s)\"\n",
    "data = df[['levels', 'themes', 'formats', 'teams_l', 'teams_r', 'scores_l', 'scores_r', 'times']].values.tolist()\n",
    "cursor.executemany(sql, data)\n",
    "conn.commit()\n",
    "conn.close()"
   ]
  },
  {
   "cell_type": "code",
   "execution_count": null,
   "id": "9bd5e54f",
   "metadata": {},
   "outputs": [],
   "source": []
  }
 ],
 "metadata": {
  "kernelspec": {
   "display_name": "Python 3",
   "language": "python",
   "name": "python3"
  },
  "language_info": {
   "codemirror_mode": {
    "name": "ipython",
    "version": 3
   },
   "file_extension": ".py",
   "mimetype": "text/x-python",
   "name": "python",
   "nbconvert_exporter": "python",
   "pygments_lexer": "ipython3",
   "version": "3.12.7"
  }
 },
 "nbformat": 4,
 "nbformat_minor": 5
}
